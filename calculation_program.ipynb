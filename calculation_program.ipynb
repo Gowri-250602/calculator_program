{
 "cells": [
  {
   "cell_type": "code",
   "execution_count": null,
   "id": "97e2d252-d5e4-4131-bcc9-f4f0f80e8d5a",
   "metadata": {},
   "outputs": [],
   "source": [
    "# calculator programs:\n",
    "\n",
    "a=int(input(\"enter a first number:\"))\n",
    "b=int(input(\"enter a second number:\"))\n",
    "operation=int(input(\"enter the operation:\\n 1.addition(+) \\n 2.subtraction(-) \\n 3.multiplication(*) \\n 4.division(//) \\n 5.modulo(%) \\n\"))\n",
    "if operation ==1:\n",
    "    k=addition(a,b)\n",
    "    print(f\"addition of {a} and {b} is {k}\")\n",
    "elif operation ==2:\n",
    "    k1=subtraction(a,b)\n",
    "    print(f\"subtraction of {a} and {b} is {k1}\")\n",
    "elif operation ==3:\n",
    "    k2=multiplication(a,b)\n",
    "    print(f\"multiplication of {a} and {b} is {k2}\")\n",
    "elif operation ==4:\n",
    "    k3=division(a,b)\n",
    "    print(f\"division of {a} and {b} is {k3}\")\n",
    "elif operation==5:\n",
    "    k4=modulo(a,b)\n",
    "    print(f\"modulus of {a} and {b} is {k4}\")\n",
    "    \n",
    "\n",
    "def addition(a,b):\n",
    "    c=a+b\n",
    "    return c\n",
    "\n",
    "def subtraction(a,b):\n",
    "    d=a-b\n",
    "    return d\n",
    "\n",
    "def multiplication(a,b):\n",
    "    e=a*b\n",
    "    return e\n",
    "\n",
    "def division(a,b):\n",
    "    f=a//b\n",
    "    return f\n",
    "\n",
    "def modulo(a,b):\n",
    "    g=a%b\n",
    "    return g\n",
    "\n",
    "\n",
    "\n",
    "\n",
    "\n",
    "\n",
    "\n",
    "    "
   ]
  }
 ],
 "metadata": {
  "kernelspec": {
   "display_name": "Python 3 (ipykernel)",
   "language": "python",
   "name": "python3"
  },
  "language_info": {
   "codemirror_mode": {
    "name": "ipython",
    "version": 3
   },
   "file_extension": ".py",
   "mimetype": "text/x-python",
   "name": "python",
   "nbconvert_exporter": "python",
   "pygments_lexer": "ipython3",
   "version": "3.12.7"
  }
 },
 "nbformat": 4,
 "nbformat_minor": 5
}
